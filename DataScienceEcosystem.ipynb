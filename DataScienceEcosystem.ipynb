{
 "cells": [
  {
   "cell_type": "markdown",
   "id": "15caded9-bc43-4442-83ce-fa8b38f94c7e",
   "metadata": {},
   "source": [
    "# Data Science Tools and Ecosystem"
   ]
  },
  {
   "cell_type": "markdown",
   "id": "45d1c2d8-b7fd-4edf-8701-3fd10a147858",
   "metadata": {},
   "source": [
    "## Introduction\n",
    "\n",
    "In this notebook, Data Science Tools and Ecosystems are summarized."
   ]
  },
  {
   "cell_type": "markdown",
   "id": "c276dc75-9b85-474d-bbd9-aec39e69e8f6",
   "metadata": {},
   "source": [
    " **Objectives:**\n",
    " - List popular languages for Data Science.\n",
    " - Creating a markdown cell with a table of Data Science Tools.\n",
    " - Listing some popular languages that Data Scientist used."
   ]
  },
  {
   "cell_type": "markdown",
   "id": "ff8e4935-8757-45bf-8aeb-1087e2da54fa",
   "metadata": {},
   "source": [
    "## Data Science Languages\n",
    "Some of the popular languages that Data Scientist use are:\n",
    "1. SQL\n",
    "2. Python\n",
    "3. R\n",
    "4. Java\n",
    "5. Javascript\n",
    "6. Julia"
   ]
  },
  {
   "cell_type": "markdown",
   "id": "a26d88e0-1b7a-4617-a5a8-07996e5af259",
   "metadata": {},
   "source": [
    "## Commonly Used Libraries by Data Scientists\n",
    "Some commonly used libraries used by Data Scientists include:\n",
    "\n",
    "1. matplotlib\n",
    "2. pandas\n",
    "3. plotly\n",
    "4. seaborn\n",
    "5. scikit-learn\n",
    "6. tensorflow"
   ]
  },
  {
   "cell_type": "markdown",
   "id": "290e7cbf-486b-4546-a9b8-eacbfa4f9d83",
   "metadata": {},
   "source": [
    "## Open Source Data Science Tools\n",
    "\n",
    "|Data Science Tools|\n",
    "|-|\n",
    "|Spyder|\n",
    "|RStudio|\n",
    "|Anaconda Navigator|\n",
    "|Microsoft Visual Studio|"
   ]
  },
  {
   "cell_type": "markdown",
   "id": "5293e79d-f428-43d3-939f-4a5a39148f92",
   "metadata": {},
   "source": [
    "## Introduction to Arithmetic Expressions in Python\n",
    "### Below are a few examples of evaluating arithmetic expressions in Python"
   ]
  },
  {
   "cell_type": "code",
   "execution_count": 1,
   "id": "9fa6d719-04c4-41f9-a0b4-64ba660ee0fb",
   "metadata": {
    "tags": []
   },
   "outputs": [
    {
     "data": {
      "text/plain": [
       "17"
      ]
     },
     "execution_count": 1,
     "metadata": {},
     "output_type": "execute_result"
    }
   ],
   "source": [
    "# This is a simple expression to mulyiply then add integers\n",
    "(3*4)+5"
   ]
  },
  {
   "cell_type": "code",
   "execution_count": 2,
   "id": "770a293f-57b4-4896-8b68-d0f324b3ceaf",
   "metadata": {
    "tags": []
   },
   "outputs": [
    {
     "data": {
      "text/plain": [
       "3.3333333333333335"
      ]
     },
     "execution_count": 2,
     "metadata": {},
     "output_type": "execute_result"
    }
   ],
   "source": [
    "#This will convert 200 minutes to hours by dividing by 60\n",
    "200/60"
   ]
  },
  {
   "cell_type": "markdown",
   "id": "06c506ff-64d5-40e6-83e4-8fa0ec2d4b06",
   "metadata": {},
   "source": [
    "## Author\n",
    "Rolando A. Pula"
   ]
  }
 ],
 "metadata": {
  "kernelspec": {
   "display_name": "Python 3 (ipykernel)",
   "language": "python",
   "name": "python3"
  },
  "language_info": {
   "codemirror_mode": {
    "name": "ipython",
    "version": 3
   },
   "file_extension": ".py",
   "mimetype": "text/x-python",
   "name": "python",
   "nbconvert_exporter": "python",
   "pygments_lexer": "ipython3",
   "version": "3.11.3"
  }
 },
 "nbformat": 4,
 "nbformat_minor": 5
}
